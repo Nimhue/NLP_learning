{
 "cells": [
  {
   "cell_type": "code",
   "execution_count": 1,
   "metadata": {},
   "outputs": [],
   "source": [
    "import nltk"
   ]
  },
  {
   "cell_type": "code",
   "execution_count": 8,
   "metadata": {},
   "outputs": [
    {
     "name": "stderr",
     "output_type": "stream",
     "text": [
      "[nltk_data] Downloading package inaugural to\n",
      "[nltk_data]     C:\\Users\\Adina\\AppData\\Roaming\\nltk_data...\n",
      "[nltk_data]   Unzipping corpora\\inaugural.zip.\n"
     ]
    },
    {
     "data": {
      "text/plain": [
       "True"
      ]
     },
     "execution_count": 8,
     "metadata": {},
     "output_type": "execute_result"
    }
   ],
   "source": [
    "nltk.download('inaugural')"
   ]
  },
  {
   "cell_type": "code",
   "execution_count": 9,
   "metadata": {},
   "outputs": [
    {
     "data": {
      "text/plain": [
       "['1789-Washington.txt',\n",
       " '1793-Washington.txt',\n",
       " '1797-Adams.txt',\n",
       " '1801-Jefferson.txt',\n",
       " '1805-Jefferson.txt',\n",
       " '1809-Madison.txt',\n",
       " '1813-Madison.txt',\n",
       " '1817-Monroe.txt',\n",
       " '1821-Monroe.txt',\n",
       " '1825-Adams.txt',\n",
       " '1829-Jackson.txt',\n",
       " '1833-Jackson.txt',\n",
       " '1837-VanBuren.txt',\n",
       " '1841-Harrison.txt',\n",
       " '1845-Polk.txt',\n",
       " '1849-Taylor.txt',\n",
       " '1853-Pierce.txt',\n",
       " '1857-Buchanan.txt',\n",
       " '1861-Lincoln.txt',\n",
       " '1865-Lincoln.txt',\n",
       " '1869-Grant.txt',\n",
       " '1873-Grant.txt',\n",
       " '1877-Hayes.txt',\n",
       " '1881-Garfield.txt',\n",
       " '1885-Cleveland.txt',\n",
       " '1889-Harrison.txt',\n",
       " '1893-Cleveland.txt',\n",
       " '1897-McKinley.txt',\n",
       " '1901-McKinley.txt',\n",
       " '1905-Roosevelt.txt',\n",
       " '1909-Taft.txt',\n",
       " '1913-Wilson.txt',\n",
       " '1917-Wilson.txt',\n",
       " '1921-Harding.txt',\n",
       " '1925-Coolidge.txt',\n",
       " '1929-Hoover.txt',\n",
       " '1933-Roosevelt.txt',\n",
       " '1937-Roosevelt.txt',\n",
       " '1941-Roosevelt.txt',\n",
       " '1945-Roosevelt.txt',\n",
       " '1949-Truman.txt',\n",
       " '1953-Eisenhower.txt',\n",
       " '1957-Eisenhower.txt',\n",
       " '1961-Kennedy.txt',\n",
       " '1965-Johnson.txt',\n",
       " '1969-Nixon.txt',\n",
       " '1973-Nixon.txt',\n",
       " '1977-Carter.txt',\n",
       " '1981-Reagan.txt',\n",
       " '1985-Reagan.txt',\n",
       " '1989-Bush.txt',\n",
       " '1993-Clinton.txt',\n",
       " '1997-Clinton.txt',\n",
       " '2001-Bush.txt',\n",
       " '2005-Bush.txt',\n",
       " '2009-Obama.txt',\n",
       " '2013-Obama.txt',\n",
       " '2017-Trump.txt']"
      ]
     },
     "execution_count": 9,
     "metadata": {},
     "output_type": "execute_result"
    }
   ],
   "source": [
    "inaugural.fileids()"
   ]
  },
  {
   "cell_type": "code",
   "execution_count": 10,
   "metadata": {},
   "outputs": [
    {
     "name": "stdout",
     "output_type": "stream",
     "text": [
      "1538 1789-Washington.txt\n",
      "147 1793-Washington.txt\n",
      "2585 1797-Adams.txt\n",
      "1935 1801-Jefferson.txt\n",
      "2384 1805-Jefferson.txt\n",
      "1265 1809-Madison.txt\n",
      "1304 1813-Madison.txt\n",
      "3693 1817-Monroe.txt\n",
      "4909 1821-Monroe.txt\n",
      "3150 1825-Adams.txt\n",
      "1208 1829-Jackson.txt\n",
      "1267 1833-Jackson.txt\n",
      "4171 1837-VanBuren.txt\n",
      "9165 1841-Harrison.txt\n",
      "5196 1845-Polk.txt\n",
      "1182 1849-Taylor.txt\n",
      "3657 1853-Pierce.txt\n",
      "3098 1857-Buchanan.txt\n",
      "4005 1861-Lincoln.txt\n",
      "785 1865-Lincoln.txt\n",
      "1239 1869-Grant.txt\n",
      "1478 1873-Grant.txt\n",
      "2724 1877-Hayes.txt\n",
      "3239 1881-Garfield.txt\n",
      "1828 1885-Cleveland.txt\n",
      "4750 1889-Harrison.txt\n",
      "2153 1893-Cleveland.txt\n",
      "4371 1897-McKinley.txt\n",
      "2450 1901-McKinley.txt\n",
      "1091 1905-Roosevelt.txt\n",
      "5846 1909-Taft.txt\n",
      "1905 1913-Wilson.txt\n",
      "1656 1917-Wilson.txt\n",
      "3756 1921-Harding.txt\n",
      "4442 1925-Coolidge.txt\n",
      "3890 1929-Hoover.txt\n",
      "2063 1933-Roosevelt.txt\n",
      "2019 1937-Roosevelt.txt\n",
      "1536 1941-Roosevelt.txt\n",
      "637 1945-Roosevelt.txt\n",
      "2528 1949-Truman.txt\n",
      "2775 1953-Eisenhower.txt\n",
      "1917 1957-Eisenhower.txt\n",
      "1546 1961-Kennedy.txt\n",
      "1715 1965-Johnson.txt\n",
      "2425 1969-Nixon.txt\n",
      "2028 1973-Nixon.txt\n",
      "1380 1977-Carter.txt\n",
      "2801 1981-Reagan.txt\n",
      "2946 1985-Reagan.txt\n",
      "2713 1989-Bush.txt\n",
      "1855 1993-Clinton.txt\n",
      "2462 1997-Clinton.txt\n",
      "1825 2001-Bush.txt\n",
      "2376 2005-Bush.txt\n",
      "2726 2009-Obama.txt\n",
      "2369 2013-Obama.txt\n",
      "1693 2017-Trump.txt\n"
     ]
    }
   ],
   "source": [
    "for speech in inaugural.fileids():\n",
    "    words_total = len(inaugural.words(speech))\n",
    "    print(words_total, speech)"
   ]
  },
  {
   "cell_type": "code",
   "execution_count": 12,
   "metadata": {},
   "outputs": [],
   "source": [
    "speech_len = [(len(inaugural.words(speech)), speech)for speech in inaugural.fileids()]"
   ]
  },
  {
   "cell_type": "code",
   "execution_count": 13,
   "metadata": {},
   "outputs": [
    {
     "data": {
      "text/plain": [
       "(9165, '1841-Harrison.txt')"
      ]
     },
     "execution_count": 13,
     "metadata": {},
     "output_type": "execute_result"
    }
   ],
   "source": [
    "max(speech_len)"
   ]
  },
  {
   "cell_type": "code",
   "execution_count": 14,
   "metadata": {},
   "outputs": [
    {
     "data": {
      "text/plain": [
       "(147, '1793-Washington.txt')"
      ]
     },
     "execution_count": 14,
     "metadata": {},
     "output_type": "execute_result"
    }
   ],
   "source": [
    "min(speech_len)"
   ]
  },
  {
   "cell_type": "code",
   "execution_count": 16,
   "metadata": {},
   "outputs": [
    {
     "name": "stdout",
     "output_type": "stream",
     "text": [
      "64 1789-Washington.txt\n",
      "36 1793-Washington.txt\n",
      "69 1797-Adams.txt\n",
      "46 1801-Jefferson.txt\n",
      "52 1805-Jefferson.txt\n",
      "60 1809-Madison.txt\n",
      "39 1813-Madison.txt\n",
      "30 1817-Monroe.txt\n",
      "38 1821-Monroe.txt\n",
      "42 1825-Adams.txt\n",
      "48 1829-Jackson.txt\n",
      "42 1833-Jackson.txt\n",
      "43 1837-VanBuren.txt\n",
      "43 1841-Harrison.txt\n",
      "33 1845-Polk.txt\n",
      "53 1849-Taylor.txt\n",
      "35 1853-Pierce.txt\n",
      "34 1857-Buchanan.txt\n",
      "29 1861-Lincoln.txt\n",
      "29 1865-Lincoln.txt\n",
      "30 1869-Grant.txt\n",
      "33 1873-Grant.txt\n",
      "46 1877-Hayes.txt\n",
      "28 1881-Garfield.txt\n",
      "41 1885-Cleveland.txt\n",
      "30 1889-Harrison.txt\n",
      "37 1893-Cleveland.txt\n",
      "33 1897-McKinley.txt\n",
      "24 1901-McKinley.txt\n",
      "33 1905-Roosevelt.txt\n",
      "36 1909-Taft.txt\n",
      "28 1913-Wilson.txt\n",
      "27 1917-Wilson.txt\n",
      "25 1921-Harding.txt\n",
      "22 1925-Coolidge.txt\n",
      "24 1929-Hoover.txt\n",
      "24 1933-Roosevelt.txt\n",
      "21 1937-Roosevelt.txt\n",
      "22 1941-Roosevelt.txt\n",
      "24 1945-Roosevelt.txt\n",
      "21 1949-Truman.txt\n",
      "22 1953-Eisenhower.txt\n",
      "20 1957-Eisenhower.txt\n",
      "29 1961-Kennedy.txt\n",
      "18 1965-Johnson.txt\n",
      "22 1969-Nixon.txt\n",
      "29 1973-Nixon.txt\n",
      "26 1977-Carter.txt\n",
      "22 1981-Reagan.txt\n",
      "23 1985-Reagan.txt\n",
      "18 1989-Bush.txt\n",
      "22 1993-Clinton.txt\n",
      "21 1997-Clinton.txt\n",
      "18 2001-Bush.txt\n",
      "25 2005-Bush.txt\n",
      "24 2009-Obama.txt\n",
      "25 2013-Obama.txt\n",
      "18 2017-Trump.txt\n"
     ]
    }
   ],
   "source": [
    "for speech in inaugural.fileids():\n",
    "    words_total = len(inaugural.words(speech))\n",
    "    sentences_total = len(inaugural.sents(speech))\n",
    "    print(words_total//sentences_total, speech)"
   ]
  },
  {
   "cell_type": "code",
   "execution_count": 17,
   "metadata": {},
   "outputs": [],
   "source": [
    "import pandas as pd"
   ]
  },
  {
   "cell_type": "code",
   "execution_count": 18,
   "metadata": {},
   "outputs": [],
   "source": [
    "data = pd.DataFrame([int(speech[:4]), len(inaugural.words(speech))//len(inaugural.sents(speech))] for speech in inaugural.fileids())"
   ]
  },
  {
   "cell_type": "code",
   "execution_count": 20,
   "metadata": {},
   "outputs": [],
   "source": [
    "data.columns = [\"Years\", \"Average words per sentence\"]"
   ]
  },
  {
   "cell_type": "code",
   "execution_count": 21,
   "metadata": {},
   "outputs": [
    {
     "data": {
      "text/html": [
       "<div>\n",
       "<style scoped>\n",
       "    .dataframe tbody tr th:only-of-type {\n",
       "        vertical-align: middle;\n",
       "    }\n",
       "\n",
       "    .dataframe tbody tr th {\n",
       "        vertical-align: top;\n",
       "    }\n",
       "\n",
       "    .dataframe thead th {\n",
       "        text-align: right;\n",
       "    }\n",
       "</style>\n",
       "<table border=\"1\" class=\"dataframe\">\n",
       "  <thead>\n",
       "    <tr style=\"text-align: right;\">\n",
       "      <th></th>\n",
       "      <th>Years</th>\n",
       "      <th>Average words per sentence</th>\n",
       "    </tr>\n",
       "  </thead>\n",
       "  <tbody>\n",
       "    <tr>\n",
       "      <th>0</th>\n",
       "      <td>1789</td>\n",
       "      <td>64</td>\n",
       "    </tr>\n",
       "    <tr>\n",
       "      <th>1</th>\n",
       "      <td>1793</td>\n",
       "      <td>36</td>\n",
       "    </tr>\n",
       "    <tr>\n",
       "      <th>2</th>\n",
       "      <td>1797</td>\n",
       "      <td>69</td>\n",
       "    </tr>\n",
       "    <tr>\n",
       "      <th>3</th>\n",
       "      <td>1801</td>\n",
       "      <td>46</td>\n",
       "    </tr>\n",
       "    <tr>\n",
       "      <th>4</th>\n",
       "      <td>1805</td>\n",
       "      <td>52</td>\n",
       "    </tr>\n",
       "    <tr>\n",
       "      <th>5</th>\n",
       "      <td>1809</td>\n",
       "      <td>60</td>\n",
       "    </tr>\n",
       "    <tr>\n",
       "      <th>6</th>\n",
       "      <td>1813</td>\n",
       "      <td>39</td>\n",
       "    </tr>\n",
       "    <tr>\n",
       "      <th>7</th>\n",
       "      <td>1817</td>\n",
       "      <td>30</td>\n",
       "    </tr>\n",
       "    <tr>\n",
       "      <th>8</th>\n",
       "      <td>1821</td>\n",
       "      <td>38</td>\n",
       "    </tr>\n",
       "    <tr>\n",
       "      <th>9</th>\n",
       "      <td>1825</td>\n",
       "      <td>42</td>\n",
       "    </tr>\n",
       "  </tbody>\n",
       "</table>\n",
       "</div>"
      ],
      "text/plain": [
       "   Years  Average words per sentence\n",
       "0   1789                          64\n",
       "1   1793                          36\n",
       "2   1797                          69\n",
       "3   1801                          46\n",
       "4   1805                          52\n",
       "5   1809                          60\n",
       "6   1813                          39\n",
       "7   1817                          30\n",
       "8   1821                          38\n",
       "9   1825                          42"
      ]
     },
     "execution_count": 21,
     "metadata": {},
     "output_type": "execute_result"
    }
   ],
   "source": [
    "data.head(10)"
   ]
  },
  {
   "cell_type": "code",
   "execution_count": 25,
   "metadata": {},
   "outputs": [
    {
     "data": {
      "text/plain": [
       "<AxesSubplot:xlabel='Years'>"
      ]
     },
     "execution_count": 25,
     "metadata": {},
     "output_type": "execute_result"
    },
    {
     "data": {
      "image/png": "[encoded data removed]",
      "text/plain": [
       "<Figure size 1080x360 with 1 Axes>"
      ]
     },
     "metadata": {
      "needs_background": "light"
     },
     "output_type": "display_data"
    }
   ],
   "source": [
    "import matplotlib\n",
    "data.plot(\"Years\", figsize=(15,5))"
   ]
  }
 ],
 "metadata": {
  "kernelspec": {
   "display_name": "Python 3",
   "language": "python",
   "name": "python3"
  },
  "language_info": {
   "codemirror_mode": {
    "name": "ipython",
    "version": 3
   },
   "file_extension": ".py",
   "mimetype": "text/x-python",
   "name": "python",
   "nbconvert_exporter": "python",
   "pygments_lexer": "ipython3",
   "version": "3.8.5"
  }
 },
 "nbformat": 4,
 "nbformat_minor": 4
}
